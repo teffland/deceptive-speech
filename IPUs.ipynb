{
 "cells": [
  {
   "cell_type": "code",
   "execution_count": 1,
   "metadata": {
    "collapsed": true
   },
   "outputs": [],
   "source": [
    "import numpy as np\n",
    "import pandas as pd\n",
    "\n",
    "from matplotlib import pyplot as plt\n",
    "% matplotlib inline"
   ]
  },
  {
   "cell_type": "code",
   "execution_count": 71,
   "metadata": {
    "collapsed": true
   },
   "outputs": [],
   "source": [
    "random_seed = 42"
   ]
  },
  {
   "cell_type": "markdown",
   "metadata": {},
   "source": [
    "## Utility function to drop duplicate columns"
   ]
  },
  {
   "cell_type": "code",
   "execution_count": 22,
   "metadata": {
    "collapsed": true
   },
   "outputs": [],
   "source": [
    "from pandas.core.common import array_equivalent\n",
    "\n",
    "def remove_duplicate_cols(df):\n",
    "    \"\"\"http://stackoverflow.com/questions/14984119/python-pandas-remove-duplicate-columns\n",
    "    \n",
    "    Use like:\n",
    "    df = remove_duplicate_cols(df)\n",
    "    \n",
    "    If no duplicates, we return gracefully\n",
    "    \"\"\"\n",
    "    Cols = list(df.columns)\n",
    "    for i,item in enumerate(df.columns):\n",
    "        if item in df.columns[:i]: Cols[i] = \"toDROP\"\n",
    "    df.columns = Cols\n",
    "    drop_cols = len([col for col in list(df.columns) if col == 'toDROP'])\n",
    "    if drop_cols:\n",
    "        return df.drop(\"toDROP\", axis=1)\n",
    "    else:\n",
    "        return df"
   ]
  },
  {
   "cell_type": "code",
   "execution_count": 2,
   "metadata": {
    "collapsed": false
   },
   "outputs": [
    {
     "name": "stdout",
     "output_type": "stream",
     "text": [
      "dal_ipu_dev.csv     ipus_test.csv       is13_ipu_train.csv  neo_ipu_dev.csv\r\n",
      "dal_ipu_test.csv    ipus_train.csv      liwc_ipu_dev.csv    neo_ipu_test.csv\r\n",
      "dal_ipu_train.csv   is13_ipu_dev.csv    liwc_ipu_test.csv   neo_ipu_train.csv\r\n",
      "ipus_dev.csv        is13_ipu_test.csv   liwc_ipu_train.csv\r\n"
     ]
    }
   ],
   "source": [
    "ls data/ipu_data"
   ]
  },
  {
   "cell_type": "markdown",
   "metadata": {},
   "source": [
    "## Read in and Format the data"
   ]
  },
  {
   "cell_type": "code",
   "execution_count": 12,
   "metadata": {
    "collapsed": false
   },
   "outputs": [
    {
     "data": {
      "text/html": [
       "<div>\n",
       "<table border=\"1\" class=\"dataframe\">\n",
       "  <thead>\n",
       "    <tr style=\"text-align: right;\">\n",
       "      <th></th>\n",
       "      <th>ipu</th>\n",
       "      <th>name</th>\n",
       "      <th>FunctionalWordPercent</th>\n",
       "      <th>mean_pleaseant</th>\n",
       "      <th>max_pleaseant</th>\n",
       "      <th>min_pleaseant</th>\n",
       "      <th>median_pleaseant</th>\n",
       "      <th>std_pleaseant</th>\n",
       "      <th>var_pleaseant</th>\n",
       "      <th>mean_activate</th>\n",
       "      <th>...</th>\n",
       "      <th>std_activate</th>\n",
       "      <th>var_activate</th>\n",
       "      <th>mean_imagery</th>\n",
       "      <th>max_imagery</th>\n",
       "      <th>min_imagery</th>\n",
       "      <th>median_imagery</th>\n",
       "      <th>std_imagery</th>\n",
       "      <th>var_imagery</th>\n",
       "      <th>label</th>\n",
       "      <th>pid</th>\n",
       "    </tr>\n",
       "  </thead>\n",
       "  <tbody>\n",
       "    <tr>\n",
       "      <th>0</th>\n",
       "      <td>0</td>\n",
       "      <td>p204p205-part1_ch1_1</td>\n",
       "      <td>0.745394</td>\n",
       "      <td>0.97547</td>\n",
       "      <td>0.60882</td>\n",
       "      <td>1.332385</td>\n",
       "      <td>0.98107</td>\n",
       "      <td>-0.953187</td>\n",
       "      <td>-0.683007</td>\n",
       "      <td>0.593455</td>\n",
       "      <td>...</td>\n",
       "      <td>-0.951077</td>\n",
       "      <td>-0.670512</td>\n",
       "      <td>0.181267</td>\n",
       "      <td>-0.229756</td>\n",
       "      <td>0.617142</td>\n",
       "      <td>0.246986</td>\n",
       "      <td>-0.857853</td>\n",
       "      <td>-0.645889</td>\n",
       "      <td>0</td>\n",
       "      <td>205</td>\n",
       "    </tr>\n",
       "  </tbody>\n",
       "</table>\n",
       "<p>1 rows × 23 columns</p>\n",
       "</div>"
      ],
      "text/plain": [
       "   ipu                  name  FunctionalWordPercent  mean_pleaseant  \\\n",
       "0    0  p204p205-part1_ch1_1               0.745394         0.97547   \n",
       "\n",
       "   max_pleaseant  min_pleaseant  median_pleaseant  std_pleaseant  \\\n",
       "0        0.60882       1.332385           0.98107      -0.953187   \n",
       "\n",
       "   var_pleaseant  mean_activate ...   std_activate  var_activate  \\\n",
       "0      -0.683007       0.593455 ...      -0.951077     -0.670512   \n",
       "\n",
       "   mean_imagery  max_imagery  min_imagery  median_imagery  std_imagery  \\\n",
       "0      0.181267    -0.229756     0.617142        0.246986    -0.857853   \n",
       "\n",
       "   var_imagery  label  pid  \n",
       "0    -0.645889      0  205  \n",
       "\n",
       "[1 rows x 23 columns]"
      ]
     },
     "execution_count": 12,
     "metadata": {},
     "output_type": "execute_result"
    }
   ],
   "source": [
    "dal = {'train':pd.read_csv('data/ipu_data/dal_ipu_train.csv'),\n",
    "       'dev':pd.read_csv('data/ipu_data/dal_ipu_dev.csv'),\n",
    "       'test':pd.read_csv('data/ipu_data/dal_ipu_test.csv')}\n",
    "dal['train'].head(1)"
   ]
  },
  {
   "cell_type": "code",
   "execution_count": 27,
   "metadata": {
    "collapsed": true
   },
   "outputs": [],
   "source": [
    "is13 = {'train':pd.read_csv('data/ipu_data/is13_ipu_train.csv'),\n",
    "       'dev':pd.read_csv('data/ipu_data/is13_ipu_dev.csv'),\n",
    "       'test':pd.read_csv('data/ipu_data/is13_ipu_test.csv')}"
   ]
  },
  {
   "cell_type": "code",
   "execution_count": 4,
   "metadata": {
    "collapsed": true
   },
   "outputs": [],
   "source": [
    "liwc = {'train':pd.read_csv('data/ipu_data/liwc_ipu_train.csv'),\n",
    "       'dev':pd.read_csv('data/ipu_data/liwc_ipu_dev.csv'),\n",
    "       'test':pd.read_csv('data/ipu_data/liwc_ipu_test.csv')}"
   ]
  },
  {
   "cell_type": "code",
   "execution_count": 5,
   "metadata": {
    "collapsed": true
   },
   "outputs": [],
   "source": [
    "neo = {'train':pd.read_csv('data/ipu_data/neo_ipu_train.csv'),\n",
    "       'dev':pd.read_csv('data/ipu_data/neo_ipu_dev.csv'),\n",
    "       'test':pd.read_csv('data/ipu_data/neo_ipu_test.csv')}"
   ]
  },
  {
   "cell_type": "code",
   "execution_count": 6,
   "metadata": {
    "collapsed": true
   },
   "outputs": [],
   "source": [
    "ipu = {'train':pd.read_csv('data/ipu_data/ipus_train.csv'),\n",
    "       'dev':pd.read_csv('data/ipu_data/ipus_dev.csv'),\n",
    "       'test':pd.read_csv('data/ipu_data/ipus_test.csv')}"
   ]
  },
  {
   "cell_type": "code",
   "execution_count": 26,
   "metadata": {
    "collapsed": false
   },
   "outputs": [
    {
     "data": {
      "text/plain": [
       "((19390, 7), (19390, 23), (19390, 134), (19390, 9))"
      ]
     },
     "execution_count": 26,
     "metadata": {},
     "output_type": "execute_result"
    }
   ],
   "source": [
    "ipu['train'].shape, dal['train'].shape, liwc['train'].shape, neo['train'].shape"
   ]
  },
  {
   "cell_type": "code",
   "execution_count": 28,
   "metadata": {
    "collapsed": false
   },
   "outputs": [],
   "source": [
    "# combine all the data\n",
    "all_train = pd.concat([ipu['train'], neo['train'], liwc['train'], dal['train'], is13['train']], axis=1)\n",
    "all_dev = pd.concat([ipu['dev'], neo['dev'], liwc['dev'], dal['dev'], is13['dev']], axis=1)\n",
    "all_test = pd.concat([ipu['test'], neo['test'], liwc['test'], dal['test'], is13['test']], axis=1)\n",
    "\n",
    "# drop columns duplicated across feature sets\n",
    "all_train = remove_duplicate_cols(all_train)\n",
    "all_dev = remove_duplicate_cols(all_dev)\n",
    "all_test = remove_duplicate_cols(all_test)\n",
    "\n",
    "# index by person by ipu\n",
    "all_train = all_train.set_index(['pid', 'ipu'])\n",
    "all_dev = all_dev.set_index(['pid', 'ipu'])\n",
    "all_test = all_test.set_index(['pid', 'ipu'])\n",
    "\n",
    "# drop columns that aren't covariates or labels\n",
    "useless_cols = ['Unnamed: 0', 'fname', 'name', 'start', 'end']\n",
    "all_train = all_train.drop(useless_cols, axis=1)\n",
    "all_dev = all_dev.drop(useless_cols, axis=1)\n",
    "all_test = all_test.drop(useless_cols, axis=1)"
   ]
  },
  {
   "cell_type": "code",
   "execution_count": 39,
   "metadata": {
    "collapsed": false
   },
   "outputs": [
    {
     "data": {
      "text/plain": [
       "((19390, 6531), (12386, 6531), (23766, 6531))"
      ]
     },
     "execution_count": 39,
     "metadata": {},
     "output_type": "execute_result"
    }
   ],
   "source": [
    "all_train.shape, all_dev.shape, all_test.shape"
   ]
  },
  {
   "cell_type": "code",
   "execution_count": 52,
   "metadata": {
    "collapsed": true
   },
   "outputs": [],
   "source": [
    "# combine the training and dev datasets\n",
    "all_train = pd.concat([all_train, all_dev])"
   ]
  },
  {
   "cell_type": "code",
   "execution_count": 77,
   "metadata": {
    "collapsed": false
   },
   "outputs": [],
   "source": [
    "# fill in the random NaNs with 0, since working with standardized columns\n",
    "all_train = all_train.fillna(0.0)\n",
    "all_dev = all_dev.fillna(0.0)\n",
    "all_test = all_test.fillna(0.0)"
   ]
  },
  {
   "cell_type": "code",
   "execution_count": 86,
   "metadata": {
    "collapsed": false
   },
   "outputs": [
    {
     "data": {
      "text/plain": [
       "False"
      ]
     },
     "execution_count": 86,
     "metadata": {},
     "output_type": "execute_result"
    }
   ],
   "source": [
    "all_train.isnull().any().any()"
   ]
  },
  {
   "cell_type": "code",
   "execution_count": 85,
   "metadata": {
    "collapsed": false
   },
   "outputs": [
    {
     "data": {
      "text/plain": [
       "False"
      ]
     },
     "execution_count": 85,
     "metadata": {},
     "output_type": "execute_result"
    }
   ],
   "source": [
    "all_test.isnull().any().any()"
   ]
  },
  {
   "cell_type": "code",
   "execution_count": 78,
   "metadata": {
    "collapsed": false
   },
   "outputs": [
    {
     "data": {
      "text/plain": [
       "<matplotlib.axes._subplots.AxesSubplot at 0x1143e3a10>"
      ]
     },
     "execution_count": 78,
     "metadata": {},
     "output_type": "execute_result"
    },
    {
     "data": {
      "image/png": "[encoded data removed]",
      "text/plain": [
       "<matplotlib.figure.Figure at 0x11088da10>"
      ]
     },
     "metadata": {},
     "output_type": "display_data"
    }
   ],
   "source": [
    "# number of ipus by pid\n",
    "all_train.groupby(level=0).count()['text'].hist()"
   ]
  },
  {
   "cell_type": "code",
   "execution_count": 79,
   "metadata": {
    "collapsed": false
   },
   "outputs": [
    {
     "name": "stdout",
     "output_type": "stream",
     "text": [
      "Training baseline: 0.6212\n",
      "Test baseline: 0.5904\n"
     ]
    }
   ],
   "source": [
    "# label baselines for train and test\n",
    "t, f = all_train['label'].value_counts()\n",
    "train_base = max([t,f])/float(sum([t,f]))\n",
    "print \"Training baseline: %2.4f\" % train_base\n",
    "\n",
    "t, f = all_test['label'].value_counts()\n",
    "test_base = max([t,f])/float(sum([t,f]))\n",
    "print \"Test baseline: %2.4f\" % test_base\n",
    "\n",
    "class_names = ['Not Deceptive', 'Deceptive'] # 0 is truth, 1 is lie"
   ]
  },
  {
   "cell_type": "code",
   "execution_count": 80,
   "metadata": {
    "collapsed": false
   },
   "outputs": [
    {
     "data": {
      "text/html": [
       "<div>\n",
       "<table border=\"1\" class=\"dataframe\">\n",
       "  <thead>\n",
       "    <tr style=\"text-align: right;\">\n",
       "      <th></th>\n",
       "      <th></th>\n",
       "      <th>text</th>\n",
       "      <th>label</th>\n",
       "      <th>Gender</th>\n",
       "      <th>Language</th>\n",
       "      <th>Nscore_raw</th>\n",
       "      <th>Escore_raw</th>\n",
       "      <th>Oscore_raw</th>\n",
       "      <th>Ascore_raw</th>\n",
       "      <th>Cscore_raw</th>\n",
       "      <th>LIWC_funct_funcword</th>\n",
       "      <th>...</th>\n",
       "      <th>mfcc_sma_de[14]_peakRangeAbs</th>\n",
       "      <th>mfcc_sma_de[14]_peakRangeRel</th>\n",
       "      <th>mfcc_sma_de[14]_peakMeanAbs</th>\n",
       "      <th>mfcc_sma_de[14]_peakMeanMeanDist</th>\n",
       "      <th>mfcc_sma_de[14]_peakMeanRel</th>\n",
       "      <th>mfcc_sma_de[14]_minRangeRel</th>\n",
       "      <th>mfcc_sma_de[14]_meanRisingSlope</th>\n",
       "      <th>mfcc_sma_de[14]_stddevRisingSlope</th>\n",
       "      <th>mfcc_sma_de[14]_meanFallingSlope</th>\n",
       "      <th>mfcc_sma_de[14]_stddevFallingSlope</th>\n",
       "    </tr>\n",
       "    <tr>\n",
       "      <th>pid</th>\n",
       "      <th>ipu</th>\n",
       "      <th></th>\n",
       "      <th></th>\n",
       "      <th></th>\n",
       "      <th></th>\n",
       "      <th></th>\n",
       "      <th></th>\n",
       "      <th></th>\n",
       "      <th></th>\n",
       "      <th></th>\n",
       "      <th></th>\n",
       "      <th></th>\n",
       "      <th></th>\n",
       "      <th></th>\n",
       "      <th></th>\n",
       "      <th></th>\n",
       "      <th></th>\n",
       "      <th></th>\n",
       "      <th></th>\n",
       "      <th></th>\n",
       "      <th></th>\n",
       "      <th></th>\n",
       "    </tr>\n",
       "  </thead>\n",
       "  <tbody>\n",
       "    <tr>\n",
       "      <th>205</th>\n",
       "      <th>0</th>\n",
       "      <td>i</td>\n",
       "      <td>0</td>\n",
       "      <td>0.0</td>\n",
       "      <td>1.0</td>\n",
       "      <td>0.836309</td>\n",
       "      <td>-1.427222</td>\n",
       "      <td>-0.880482</td>\n",
       "      <td>-0.267426</td>\n",
       "      <td>-1.479525</td>\n",
       "      <td>1.37892</td>\n",
       "      <td>...</td>\n",
       "      <td>-0.234093</td>\n",
       "      <td>1.088132</td>\n",
       "      <td>-0.039729</td>\n",
       "      <td>-0.313299</td>\n",
       "      <td>0.041875</td>\n",
       "      <td>-3.337331</td>\n",
       "      <td>-1.775955</td>\n",
       "      <td>-1.450182</td>\n",
       "      <td>-1.331211</td>\n",
       "      <td>-0.984684</td>\n",
       "    </tr>\n",
       "  </tbody>\n",
       "</table>\n",
       "<p>1 rows × 6531 columns</p>\n",
       "</div>"
      ],
      "text/plain": [
       "        text  label  Gender  Language  Nscore_raw  Escore_raw  Oscore_raw  \\\n",
       "pid ipu                                                                     \n",
       "205 0      i      0     0.0       1.0    0.836309   -1.427222   -0.880482   \n",
       "\n",
       "         Ascore_raw  Cscore_raw  LIWC_funct_funcword  \\\n",
       "pid ipu                                                \n",
       "205 0     -0.267426   -1.479525              1.37892   \n",
       "\n",
       "                        ...                  mfcc_sma_de[14]_peakRangeAbs  \\\n",
       "pid ipu                 ...                                                 \n",
       "205 0                   ...                                     -0.234093   \n",
       "\n",
       "         mfcc_sma_de[14]_peakRangeRel  mfcc_sma_de[14]_peakMeanAbs  \\\n",
       "pid ipu                                                              \n",
       "205 0                        1.088132                    -0.039729   \n",
       "\n",
       "         mfcc_sma_de[14]_peakMeanMeanDist  mfcc_sma_de[14]_peakMeanRel  \\\n",
       "pid ipu                                                                  \n",
       "205 0                           -0.313299                     0.041875   \n",
       "\n",
       "         mfcc_sma_de[14]_minRangeRel  mfcc_sma_de[14]_meanRisingSlope  \\\n",
       "pid ipu                                                                 \n",
       "205 0                      -3.337331                        -1.775955   \n",
       "\n",
       "         mfcc_sma_de[14]_stddevRisingSlope  mfcc_sma_de[14]_meanFallingSlope  \\\n",
       "pid ipu                                                                        \n",
       "205 0                            -1.450182                         -1.331211   \n",
       "\n",
       "         mfcc_sma_de[14]_stddevFallingSlope  \n",
       "pid ipu                                      \n",
       "205 0                             -0.984684  \n",
       "\n",
       "[1 rows x 6531 columns]"
      ]
     },
     "execution_count": 80,
     "metadata": {},
     "output_type": "execute_result"
    }
   ],
   "source": [
    "all_train.head(1)"
   ]
  },
  {
   "cell_type": "code",
   "execution_count": 81,
   "metadata": {
    "collapsed": true
   },
   "outputs": [],
   "source": [
    "noncovariates = ['label', 'text']\n",
    "train_x = all_train.drop(noncovariates, axis=1).as_matrix()\n",
    "train_y = all_train['label'].as_matrix()\n",
    "test_x = all_test.drop(noncovariates, axis=1).as_matrix()\n",
    "test_y = all_test['label'].as_matrix()"
   ]
  },
  {
   "cell_type": "code",
   "execution_count": 88,
   "metadata": {
    "collapsed": false
   },
   "outputs": [
    {
     "data": {
      "text/plain": [
       "(False, False)"
      ]
     },
     "execution_count": 88,
     "metadata": {},
     "output_type": "execute_result"
    }
   ],
   "source": [
    "np.any(np.isnan(train_x)), np.any(np.isnan(train_y))"
   ]
  },
  {
   "cell_type": "code",
   "execution_count": 89,
   "metadata": {
    "collapsed": false
   },
   "outputs": [
    {
     "data": {
      "text/plain": [
       "(False, False)"
      ]
     },
     "execution_count": 89,
     "metadata": {},
     "output_type": "execute_result"
    }
   ],
   "source": [
    "np.any(np.isnan(test_x)), np.any(np.isnan(test_y))"
   ]
  },
  {
   "cell_type": "code",
   "execution_count": 90,
   "metadata": {
    "collapsed": false
   },
   "outputs": [],
   "source": [
    "def experiment(clf, param_grid, grid_metric='accuracy',\n",
    "               train_x=train_x, train_y=train_y, \n",
    "               test_x=test_x, test_y=test_y, \n",
    "               label_names=class_names, cv=10):\n",
    "    \"\"\"Run GridSearchCv on the pipeline `clf` with `cv` number of folds over `grid`\n",
    "    \n",
    "    Then refit the best parameters on all of the train data, and analyze the test performance\n",
    "    \n",
    "    Performance metrics: accuracy, f1-score for Deceptive, confusion matrix\n",
    "    \n",
    "    NOTE: Specify parallel jobs in clf.  Won't do grid search in parallel.\n",
    "    \"\"\"\n",
    "    print \"Searching Grid...\"\n",
    "    grid = GridSearchCV(clf, param_grid, grid_metric, cv=cv, verbose=1)\n",
    "    grid.fit(train_x, train_y)\n",
    "    print \"Fitting best estimator...\"\n",
    "    print \"Chosen parameters: \\n\", grid.best_params_\n",
    "    print \"Best Estimator: \\n\", grid.best_estimator_\n",
    "    clf.set_params(**grid.best_params_)\n",
    "    clf.fit(train_x, train_y)\n",
    "    print \"Evaluating on Test...\"\n",
    "    preds = clf.predict(test_x)\n",
    "    acc = accuracy_score(test_y, preds)\n",
    "    p = precision_score(test_y, preds)\n",
    "    r = recall_score(test_y, preds)\n",
    "    f1 = f1_score(test_y, preds)\n",
    "    print \"Test Accuracy: %1.4f, Test F1: %1.4f (P:%0.2f R:%0.2f)\" % (acc, f1, p, r)\n",
    "    confusion_matrix = cm(test_y, preds)\n",
    "    results = {'clf': clf,\n",
    "               'best_params':grid.best_params_,\n",
    "               'grid_scores':grid.grid_scores_,\n",
    "               'acc':acc,\n",
    "               'f1':f1, 'precision':p, 'recall':r,\n",
    "               'cm':confusion_matrix}\n",
    "    return results\n",
    "\n",
    "def plot_confusion_matrix(cm, label_names=class_names, save_name=None, \n",
    "                          title='Normed Confusion matrix', \n",
    "                          cmap=plt.cm.Blues, \n",
    "                          stats=None):\n",
    "    \"\"\"Take confusion matrix, label names and plot a very nice looking confusion matrix\n",
    "    Args:\n",
    "        cm: a confustion matrix w/ prediction rows and true columns\n",
    "        label_names: list of class names for tick labels\n",
    "        save_name (optional): if provided, save the figure to this location\n",
    "        title (optional): the desired title\n",
    "        cmap (optional): the colormap to display cell magnitudes with\n",
    "        stats (optional): if stats, label class precisions and macro stats\n",
    "    \"\"\"\n",
    "    fig, ax = plt.subplots(figsize=(6,6))\n",
    "    \n",
    "    # calc normalized cm\n",
    "    x, y = np.meshgrid(range(cm.shape[0]), range(cm.shape[1]))\n",
    "    cm_normalized = cm.astype('float') / cm.sum(axis=1, keepdims=True)\n",
    "    cm_normalized[np.isnan(cm_normalized)] = 0.0\n",
    "    \n",
    "    # print nonzero raw counts\n",
    "    for x_val, y_val in zip(x.flatten(), y.flatten()):\n",
    "        norm = cm_normalized[x_val, y_val]\n",
    "        c = \"%i\" % (cm.astype('int')[x_val, y_val])\n",
    "        if norm > 0.0:\n",
    "            color = 'white' if norm > .5 else 'black'\n",
    "            ax.text(y_val, x_val, c, va='center', ha='center', color=color, fontsize=14)\n",
    "    \n",
    "    # actual plot\n",
    "    im = ax.imshow(cm_normalized, interpolation='nearest', origin='upper', cmap=cmap)\n",
    "    plt.colorbar(im, fraction=0.046, pad=0.04)\n",
    "    \n",
    "    # set ticks and offset grid\n",
    "    tick_marks = np.arange(len(label_names))\n",
    "    tick_marks_offset = np.arange(len(label_names)) - .5\n",
    "    ax.set_xticks(tick_marks, minor=False)\n",
    "    ax.set_yticks(tick_marks, minor=False)\n",
    "    ax.set_xticks(tick_marks_offset, minor=True)\n",
    "    ax.set_yticks(tick_marks_offset, minor=True)\n",
    "    ax.grid(which='minor')\n",
    "    if stats:\n",
    "        # include micro precisio, recall, and f1\n",
    "        aug_y_labels = []\n",
    "        for i in range(len(label_names)):\n",
    "            aug = (\"%s\\nP:%0.2f, R:%0.2f, F1:%0.2f\" \n",
    "                   % (label_names[i],\n",
    "                      stats['class_precision'][i],\n",
    "                      stats['class_recall'][i],\n",
    "                      stats['class_f1'][i],))\n",
    "            aug_y_labels.append(aug)\n",
    "    else:\n",
    "        aug_y_labels = label_names\n",
    "    ax.set_xticklabels(label_names, horizontalalignment='left')\n",
    "    ax.set_yticklabels(aug_y_labels)\n",
    "    \n",
    "    # other stuff\n",
    "    plt.tight_layout()\n",
    "    plt.ylabel('Predicted Labels', fontsize=16)\n",
    "    if stats:\n",
    "        # include macro \n",
    "        aug_x_label = (\"True Labels\\n Micro P:%0.2f, R:%0.2f, F1:%0.2f\\n Macro P:%0.2f, R:%0.2f, F1:%0.2f\" \n",
    "                       % (stats['micro_precision'], stats['micro_recall'], stats['micro_f1'],\n",
    "                          stats['macro_precision'], stats['macro_recall'], stats['macro_f1']))\n",
    "    else:\n",
    "        aug_x_label = \"True Label\"\n",
    "    plt.xlabel(aug_x_label, fontsize=16)\n",
    "    plt.title(title, fontsize=18)\n",
    "    if save_name:\n",
    "        plt.savefig(save_name+'.pdf')\n",
    "        \n",
    "def plot_grid_scores(grid_scores, baseline=train_base):\n",
    "    \"\"\"Take grid scores and plot interactive box and whisker plot with baseline reference\"\"\"\n",
    "    # determine endpoint of baseline\n",
    "    cv_scores = [s[2] for s in grid_scores] # 2 is cross val scores\n",
    "    labels = [\"\\n\".join([str(val) for val in s[0].values()]) for s in grid_scores]\n",
    "    x_label = \", \".join([str(key) for key in grid_scores[0][0].keys()])\n",
    "    fig, ax = plt.subplots(figsize=(15,6))\n",
    "    boxes = ax.boxplot(cv_scores)\n",
    "    ax.hlines([baseline], [0], [len(grid_scores) + 1], linestyles='dashed', label='Baseline Accuracy')\n",
    "    \n",
    "    plt.legend(loc='best')\n",
    "    ax.set_title(\"Cross Validation Scores\")\n",
    "    ax.set_ylabel(\"Accuracy\")\n",
    "    ax.set_xlabel(x_label)\n",
    "    ax.set_xticklabels(labels, fontsize=8)\n",
    "    plt.show()"
   ]
  },
  {
   "cell_type": "code",
   "execution_count": 91,
   "metadata": {
    "collapsed": true
   },
   "outputs": [],
   "source": [
    "from sklearn.grid_search import GridSearchCV\n",
    "from sklearn.metrics import classification_report as report\n",
    "from sklearn.metrics import accuracy_score, precision_score, recall_score, f1_score\n",
    "from sklearn.metrics import confusion_matrix as cm"
   ]
  },
  {
   "cell_type": "markdown",
   "metadata": {},
   "source": [
    "# Random Forest w/o pre-feature selection"
   ]
  },
  {
   "cell_type": "code",
   "execution_count": null,
   "metadata": {
    "collapsed": false
   },
   "outputs": [
    {
     "name": "stdout",
     "output_type": "stream",
     "text": [
      "Searching Grid...\n",
      "Fitting 10 folds for each of 12 candidates, totalling 120 fits\n"
     ]
    },
    {
     "name": "stderr",
     "output_type": "stream",
     "text": [
      "[Parallel(n_jobs=1)]: Done  49 tasks       | elapsed: 16.5min\n"
     ]
    }
   ],
   "source": [
    "from sklearn.ensemble import RandomForestClassifier as RF\n",
    "\n",
    "rf = RF(verbose=0, n_jobs=-1, random_state=random_seed)\n",
    "param_grid =dict(n_estimators=[5, 10, 50, 100, 200, 300], \n",
    "                 criterion=['entropy'],\n",
    "                 max_features=['log2', 'sqrt']\n",
    "#                  max_depth=None, \n",
    "#                  min_samples_split=2, \n",
    "#                  min_samples_leaf=1, \n",
    "#                  min_weight_fraction_leaf=0.0, \n",
    "#                  max_features='auto', \n",
    "#                  max_leaf_nodes=None, \n",
    "#                  bootstrap=True, \n",
    "#                  oob_score=False, \n",
    "#                  n_jobs=1, \n",
    "#                  random_state=None, \n",
    "#                  verbose=0, \n",
    "#                  warm_start=False, \n",
    "#                  class_weight=None\n",
    "                )\n",
    "rf_results = experiment(rf, param_grid)"
   ]
  },
  {
   "cell_type": "code",
   "execution_count": null,
   "metadata": {
    "collapsed": true
   },
   "outputs": [],
   "source": []
  }
 ],
 "metadata": {
  "kernelspec": {
   "display_name": "Python 2",
   "language": "python",
   "name": "python2"
  },
  "language_info": {
   "codemirror_mode": {
    "name": "ipython",
    "version": 2
   },
   "file_extension": ".py",
   "mimetype": "text/x-python",
   "name": "python",
   "nbconvert_exporter": "python",
   "pygments_lexer": "ipython2",
   "version": "2.7.10"
  }
 },
 "nbformat": 4,
 "nbformat_minor": 0
}
